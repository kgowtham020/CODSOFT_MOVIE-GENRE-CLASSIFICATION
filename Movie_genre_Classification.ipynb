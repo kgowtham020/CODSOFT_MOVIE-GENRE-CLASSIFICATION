{
  "cells": [
    {
      "cell_type": "code",
      "execution_count": null,
      "metadata": {
        "colab": {
          "background_save": true,
          "base_uri": "https://localhost:8080/"
        },
        "id": "B6i23S7Jy7pV",
        "outputId": "e77b595f-e8aa-4cb4-afa4-6c160d7d8110"
      },
      "outputs": [
        {
          "name": "stderr",
          "output_type": "stream",
          "text": [
            "<ipython-input-2-544d4805b29e>:10: ParserWarning: Falling back to the 'python' engine because the 'c' engine does not support regex separators (separators > 1 char and different from '\\s+' are interpreted as regex); you can avoid this warning by specifying engine='python'.\n",
            "  train_df = pd.read_csv('train_data.txt', delimiter=':::', names=['index', 'movie_name', 'genre', 'plot'])\n",
            "<ipython-input-2-544d4805b29e>:11: ParserWarning: Falling back to the 'python' engine because the 'c' engine does not support regex separators (separators > 1 char and different from '\\s+' are interpreted as regex); you can avoid this warning by specifying engine='python'.\n",
            "  test_df = pd.read_csv('test_data.txt', delimiter=':::', names=['index', 'movie_name', 'plot'])\n",
            "<ipython-input-2-544d4805b29e>:12: ParserWarning: Falling back to the 'python' engine because the 'c' engine does not support regex separators (separators > 1 char and different from '\\s+' are interpreted as regex); you can avoid this warning by specifying engine='python'.\n",
            "  test_solution_df = pd.read_csv('test_data_solution.txt', delimiter=':::', names=['index', 'movie_name', 'genre', 'plot'])\n"
          ]
        },
        {
          "name": "stdout",
          "output_type": "stream",
          "text": [
            "Naive Bayes:\n",
            "\n",
            "Accuracy: 0.537241156666513\n"
          ]
        },
        {
          "name": "stderr",
          "output_type": "stream",
          "text": [
            "/usr/local/lib/python3.10/dist-packages/sklearn/metrics/_classification.py:1471: UndefinedMetricWarning: Precision and F-score are ill-defined and being set to 0.0 in labels with no predicted samples. Use `zero_division` parameter to control this behavior.\n",
            "  _warn_prf(average, modifier, msg_start, len(result))\n",
            "/usr/local/lib/python3.10/dist-packages/sklearn/metrics/_classification.py:1471: UndefinedMetricWarning: Precision and F-score are ill-defined and being set to 0.0 in labels with no predicted samples. Use `zero_division` parameter to control this behavior.\n",
            "  _warn_prf(average, modifier, msg_start, len(result))\n",
            "/usr/local/lib/python3.10/dist-packages/sklearn/metrics/_classification.py:1471: UndefinedMetricWarning: Precision and F-score are ill-defined and being set to 0.0 in labels with no predicted samples. Use `zero_division` parameter to control this behavior.\n",
            "  _warn_prf(average, modifier, msg_start, len(result))\n"
          ]
        },
        {
          "name": "stdout",
          "output_type": "stream",
          "text": [
            "Classification Report:\n",
            "                precision    recall  f1-score   support\n",
            "\n",
            "      action        0.61      0.17      0.26       526\n",
            "       adult        0.70      0.10      0.18       228\n",
            "   adventure        0.61      0.08      0.14       304\n",
            "   animation        0.00      0.00      0.00       211\n",
            "   biography        0.00      0.00      0.00       103\n",
            "      comedy        0.51      0.43      0.47      2988\n",
            "       crime        0.00      0.00      0.00       223\n",
            " documentary        0.58      0.86      0.69      5185\n",
            "       drama        0.48      0.82      0.60      5550\n",
            "      family        1.00      0.00      0.01       288\n",
            "     fantasy        0.00      0.00      0.00       147\n",
            "   game-show        0.93      0.37      0.53        73\n",
            "     history        0.00      0.00      0.00       116\n",
            "      horror        0.73      0.44      0.55       883\n",
            "       music        0.68      0.27      0.39       300\n",
            "     musical        0.00      0.00      0.00       114\n",
            "     mystery        0.00      0.00      0.00       114\n",
            "        news        0.00      0.00      0.00        61\n",
            "  reality-tv        0.62      0.05      0.10       379\n",
            "     romance        0.00      0.00      0.00       267\n",
            "      sci-fi        0.61      0.12      0.20       240\n",
            "       short        0.58      0.14      0.23      1931\n",
            "       sport        0.66      0.12      0.20       162\n",
            "   talk-show        1.00      0.01      0.03       152\n",
            "    thriller        0.53      0.04      0.07       649\n",
            "         war        0.00      0.00      0.00        47\n",
            "     western        0.95      0.73      0.83       442\n",
            "\n",
            "     accuracy                           0.54     21683\n",
            "    macro avg       0.44      0.18      0.20     21683\n",
            " weighted avg       0.53      0.54      0.47     21683\n",
            "\n",
            "\n",
            "\n",
            "Logistic Regression:\n",
            "\n",
            "Accuracy: 0.5962735783793756\n"
          ]
        },
        {
          "name": "stderr",
          "output_type": "stream",
          "text": [
            "/usr/local/lib/python3.10/dist-packages/sklearn/metrics/_classification.py:1471: UndefinedMetricWarning: Precision and F-score are ill-defined and being set to 0.0 in labels with no predicted samples. Use `zero_division` parameter to control this behavior.\n",
            "  _warn_prf(average, modifier, msg_start, len(result))\n",
            "/usr/local/lib/python3.10/dist-packages/sklearn/metrics/_classification.py:1471: UndefinedMetricWarning: Precision and F-score are ill-defined and being set to 0.0 in labels with no predicted samples. Use `zero_division` parameter to control this behavior.\n",
            "  _warn_prf(average, modifier, msg_start, len(result))\n",
            "/usr/local/lib/python3.10/dist-packages/sklearn/metrics/_classification.py:1471: UndefinedMetricWarning: Precision and F-score are ill-defined and being set to 0.0 in labels with no predicted samples. Use `zero_division` parameter to control this behavior.\n",
            "  _warn_prf(average, modifier, msg_start, len(result))\n"
          ]
        },
        {
          "name": "stdout",
          "output_type": "stream",
          "text": [
            "Classification Report:\n",
            "                precision    recall  f1-score   support\n",
            "\n",
            "      action        0.49      0.34      0.40       526\n",
            "       adult        0.60      0.27      0.37       228\n",
            "   adventure        0.58      0.20      0.30       304\n",
            "   animation        0.57      0.11      0.19       211\n",
            "   biography        0.00      0.00      0.00       103\n",
            "      comedy        0.55      0.60      0.57      2988\n",
            "       crime        0.34      0.05      0.09       223\n",
            " documentary        0.69      0.83      0.75      5185\n",
            "       drama        0.57      0.77      0.65      5550\n",
            "      family        0.45      0.14      0.22       288\n",
            "     fantasy        0.60      0.08      0.14       147\n",
            "   game-show        0.73      0.45      0.56        73\n",
            "     history        0.00      0.00      0.00       116\n",
            "      horror        0.67      0.63      0.65       883\n",
            "       music        0.63      0.48      0.55       300\n",
            "     musical        0.50      0.04      0.08       114\n",
            "     mystery        0.29      0.04      0.06       114\n",
            "        news        0.50      0.03      0.06        61\n",
            "  reality-tv        0.49      0.24      0.32       379\n",
            "     romance        0.21      0.02      0.03       267\n",
            "      sci-fi        0.52      0.34      0.41       240\n",
            "       short        0.46      0.37      0.41      1931\n",
            "       sport        0.58      0.33      0.42       162\n",
            "   talk-show        0.50      0.16      0.24       152\n",
            "    thriller        0.40      0.16      0.23       649\n",
            "         war        0.62      0.11      0.18        47\n",
            "     western        0.94      0.78      0.85       442\n",
            "\n",
            "     accuracy                           0.60     21683\n",
            "    macro avg       0.50      0.28      0.32     21683\n",
            " weighted avg       0.57      0.60      0.56     21683\n",
            "\n",
            "\n",
            "\n"
          ]
        }
      ],
      "source": [
        "import pandas as pd\n",
        "from sklearn.feature_extraction.text import TfidfVectorizer\n",
        "from sklearn.model_selection import train_test_split\n",
        "from sklearn.naive_bayes import MultinomialNB\n",
        "from sklearn.linear_model import LogisticRegression\n",
        "from sklearn.svm import SVC\n",
        "from sklearn.metrics import accuracy_score, classification_report\n",
        "\n",
        "# Load the datasets\n",
        "train_df = pd.read_csv('train_data.txt', delimiter=':::', names=['index', 'movie_name', 'genre', 'plot'])\n",
        "test_df = pd.read_csv('test_data.txt', delimiter=':::', names=['index', 'movie_name', 'plot'])\n",
        "test_solution_df = pd.read_csv('test_data_solution.txt', delimiter=':::', names=['index', 'movie_name', 'genre', 'plot'])\n",
        "\n",
        "# Combine train and test solution data for training\n",
        "combined_df = pd.concat([train_df, test_solution_df])\n",
        "\n",
        "# Preprocess the data\n",
        "X = combined_df['plot']\n",
        "y = combined_df['genre']\n",
        "\n",
        "# Feature extraction using TF-IDF\n",
        "tfidf = TfidfVectorizer(max_features=5000, stop_words='english')\n",
        "X = tfidf.fit_transform(X)\n",
        "\n",
        "# Split the data\n",
        "X_train, X_val, y_train, y_val = train_test_split(X, y, test_size=0.2, random_state=42)\n",
        "\n",
        "# Train the models\n",
        "models = {\n",
        "    'Naive Bayes': MultinomialNB(),\n",
        "    'Logistic Regression': LogisticRegression(max_iter=1000),\n",
        "    'SVM': SVC(kernel='linear')\n",
        "}\n",
        "\n",
        "for name, model in models.items():\n",
        "    model.fit(X_train, y_train)\n",
        "    y_pred = model.predict(X_val)\n",
        "    print(f\"{name}:\\n\")\n",
        "    print(\"Accuracy:\", accuracy_score(y_val, y_pred))\n",
        "    print(\"Classification Report:\\n\", classification_report(y_val, y_pred))\n",
        "    print(\"\\n\")\n",
        "\n",
        "# Make predictions on the test set\n",
        "X_test = tfidf.transform(test_df['plot'])\n",
        "best_model = models['Logistic Regression']  # Choose the best model based on validation performance\n",
        "y_test_pred = best_model.predict(X_test)\n",
        "\n",
        "# Add predictions to the test dataframe\n",
        "test_df['predicted_genre'] = y_test_pred\n",
        "\n",
        "# Display the predictions\n",
        "print(test_df[['movie_name', 'predicted_genre']])\n"
      ]
    }
  ],
  "metadata": {
    "colab": {
      "provenance": []
    },
    "kernelspec": {
      "display_name": "Python 3",
      "name": "python3"
    },
    "language_info": {
      "name": "python"
    }
  },
  "nbformat": 4,
  "nbformat_minor": 0
}